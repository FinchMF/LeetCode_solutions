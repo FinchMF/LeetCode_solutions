{
 "metadata": {
  "language_info": {
   "codemirror_mode": {
    "name": "ipython",
    "version": 3
   },
   "file_extension": ".py",
   "mimetype": "text/x-python",
   "name": "python",
   "nbconvert_exporter": "python",
   "pygments_lexer": "ipython3",
   "version": "3.7.6-final"
  },
  "orig_nbformat": 2,
  "kernelspec": {
   "name": "Python 3.7.6 64-bit ('base': conda)",
   "display_name": "Python 3.7.6 64-bit ('base': conda)",
   "metadata": {
    "interpreter": {
     "hash": "6ac79b1fdcb490579d7682732754f5f6cab407ac9f00894a844997adac3ef759"
    }
   }
  }
 },
 "nbformat": 4,
 "nbformat_minor": 2,
 "cells": [
  {
   "source": [
    "# Algorithim Workbench"
   ],
   "cell_type": "markdown",
   "metadata": {}
  },
  {
   "source": [
    "Finding the lenght of the longest substring"
   ],
   "cell_type": "markdown",
   "metadata": {}
  },
  {
   "cell_type": "code",
   "execution_count": 68,
   "metadata": {},
   "outputs": [],
   "source": [
    "class Solution:\n",
    "    def __init__(self):\n",
    "        pass\n",
    "\n",
    "    def lengthOfLongestSubstring(s):\n",
    "\n",
    "        substring_len = 0 \n",
    "        count = 0\n",
    "        chars_counter = {}\n",
    "\n",
    "        print(f'Substring Length: {substring_len}', end='\\n * ')\n",
    "        print(f'Count: {count}', end='\\n * ')\n",
    "        print('[+] Character counter Set')\n",
    "        print('\\n')\n",
    "\n",
    "        for idx in range(len(s)):\n",
    "            print(f' [i] currently at index: {idx}')\n",
    "            if s[idx] in chars_counter and count <= chars_counter[s[idx]]: \n",
    "                print(f'[---] Current Element: {s[idx]}')\n",
    "                print(f'[---] Count at: {count}')\n",
    "                print('\\n')\n",
    "                count = chars_counter[s[idx]] + 1\n",
    "                print('[i] Charater Counted \\n')\n",
    "            else: \n",
    "                print(f'[---] Current Element: {s[idx]}')\n",
    "                print(f'[---] Substring Length at: {substring_len}')\n",
    "                print('\\n')\n",
    "                substring_len = max(substring_len, idx - count + 1)\n",
    "            chars_counter[s[idx]] = idx\n",
    "            print(f'Current Counts: {chars_counter}')\n",
    "            print('\\n')\n",
    "\n",
    "        return substring_len"
   ]
  },
  {
   "source": [
    "Testing Solution"
   ],
   "cell_type": "markdown",
   "metadata": {}
  },
  {
   "cell_type": "code",
   "execution_count": 72,
   "metadata": {},
   "outputs": [],
   "source": [
    "string = 'abcababaa'"
   ]
  },
  {
   "cell_type": "code",
   "execution_count": 73,
   "metadata": {
    "tags": []
   },
   "outputs": [
    {
     "output_type": "stream",
     "name": "stdout",
     "text": "Substring Length: 0\n * Count: 0\n * [+] Character counter Set\n\n\n [i] currently at index: 0\n[---] Current Element: a\n[---] Substring Length at: 0\n\n\nCurrent Counts: {&#39;a&#39;: 0}\n\n\n [i] currently at index: 1\n[---] Current Element: b\n[---] Substring Length at: 1\n\n\nCurrent Counts: {&#39;a&#39;: 0, &#39;b&#39;: 1}\n\n\n [i] currently at index: 2\n[---] Current Element: c\n[---] Substring Length at: 2\n\n\nCurrent Counts: {&#39;a&#39;: 0, &#39;b&#39;: 1, &#39;c&#39;: 2}\n\n\n [i] currently at index: 3\n[---] Current Element: a\n[---] Count at: 0\n\n\n[i] Charater Counted \n\nCurrent Counts: {&#39;a&#39;: 3, &#39;b&#39;: 1, &#39;c&#39;: 2}\n\n\n [i] currently at index: 4\n[---] Current Element: b\n[---] Count at: 1\n\n\n[i] Charater Counted \n\nCurrent Counts: {&#39;a&#39;: 3, &#39;b&#39;: 4, &#39;c&#39;: 2}\n\n\n [i] currently at index: 5\n[---] Current Element: a\n[---] Count at: 2\n\n\n[i] Charater Counted \n\nCurrent Counts: {&#39;a&#39;: 5, &#39;b&#39;: 4, &#39;c&#39;: 2}\n\n\n [i] currently at index: 6\n[---] Current Element: b\n[---] Count at: 4\n\n\n[i] Charater Counted \n\nCurrent Counts: {&#39;a&#39;: 5, &#39;b&#39;: 6, &#39;c&#39;: 2}\n\n\n [i] currently at index: 7\n[---] Current Element: a\n[---] Count at: 5\n\n\n[i] Charater Counted \n\nCurrent Counts: {&#39;a&#39;: 7, &#39;b&#39;: 6, &#39;c&#39;: 2}\n\n\n [i] currently at index: 8\n[---] Current Element: a\n[---] Count at: 6\n\n\n[i] Charater Counted \n\nCurrent Counts: {&#39;a&#39;: 8, &#39;b&#39;: 6, &#39;c&#39;: 2}\n\n\n"
    },
    {
     "output_type": "execute_result",
     "data": {
      "text/plain": "3"
     },
     "metadata": {},
     "execution_count": 73
    }
   ],
   "source": [
    "Solution.lengthOfLongestSubstring(string)"
   ]
  },
  {
   "source": [
    "Finding the Median from a sorted array"
   ],
   "cell_type": "markdown",
   "metadata": {}
  },
  {
   "cell_type": "code",
   "execution_count": 112,
   "metadata": {},
   "outputs": [],
   "source": [
    "class Solution:\n",
    "    \n",
    "    def findMedianSortedArrays(arr_1, arr_2):\n",
    "        # set the array\n",
    "        array = sorted(arr_1 + arr_2)\n",
    "        print(f'Combined Array, Sorted: \\n {array} \\n ')\n",
    "        # if the array's length is even\n",
    "        print('Is array length even or odd? \\n')\n",
    "        if len(array) % 2 == 0: \n",
    "            print(f'Even -- Number of Elements: {len(array)}')\n",
    "            # if the array is even \n",
    "            return (array[len(array) // 2] + array[len(array) // 2 + 1]) / 2\n",
    "    \n",
    "        # if the array's length is odd\n",
    "        else: \n",
    "            print(f'Odd -- Number of Elements: {len(array)} \\n')\n",
    "            return array[len(array) // 2]"
   ]
  },
  {
   "source": [
    "Testing Solution"
   ],
   "cell_type": "markdown",
   "metadata": {}
  },
  {
   "cell_type": "code",
   "execution_count": 113,
   "metadata": {},
   "outputs": [],
   "source": [
    "arr_1, arr_2 = [9,9,2,5,5], [8,1,2,3]"
   ]
  },
  {
   "cell_type": "code",
   "execution_count": 114,
   "metadata": {
    "tags": []
   },
   "outputs": [
    {
     "output_type": "stream",
     "name": "stdout",
     "text": "Combined Array, Sorted: \n [1, 2, 2, 3, 5, 5, 8, 9, 9] \n \nIs array length even or odd? \n\nOdd -- Number of Elements: 9 \n\n"
    },
    {
     "output_type": "execute_result",
     "data": {
      "text/plain": "5"
     },
     "metadata": {},
     "execution_count": 114
    }
   ],
   "source": [
    "Solution.findMedianSortedArrays(arr_1, arr_2)"
   ]
  }
 ]
}