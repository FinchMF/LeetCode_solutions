{
 "metadata": {
  "language_info": {
   "codemirror_mode": {
    "name": "ipython",
    "version": 3
   },
   "file_extension": ".py",
   "mimetype": "text/x-python",
   "name": "python",
   "nbconvert_exporter": "python",
   "pygments_lexer": "ipython3",
   "version": "3.7.6-final"
  },
  "orig_nbformat": 2,
  "kernelspec": {
   "name": "Python 3.7.6 64-bit ('base': conda)",
   "display_name": "Python 3.7.6 64-bit ('base': conda)",
   "metadata": {
    "interpreter": {
     "hash": "6ac79b1fdcb490579d7682732754f5f6cab407ac9f00894a844997adac3ef759"
    }
   }
  }
 },
 "nbformat": 4,
 "nbformat_minor": 2,
 "cells": [
  {
   "source": [
    "# Algorithim Workbench"
   ],
   "cell_type": "markdown",
   "metadata": {}
  },
  {
   "source": [
    "## Finding the length of the longest substring"
   ],
   "cell_type": "markdown",
   "metadata": {}
  },
  {
   "cell_type": "code",
   "execution_count": 68,
   "metadata": {},
   "outputs": [],
   "source": [
    "class Solution:\n",
    "    def __init__(self):\n",
    "        pass\n",
    "\n",
    "    def lengthOfLongestSubstring(s):\n",
    "\n",
    "        substring_len = 0 \n",
    "        count = 0\n",
    "        chars_counter = {}\n",
    "\n",
    "        print(f'Substring Length: {substring_len}', end='\\n * ')\n",
    "        print(f'Count: {count}', end='\\n * ')\n",
    "        print('[+] Character counter Set')\n",
    "        print('\\n')\n",
    "\n",
    "        for idx in range(len(s)):\n",
    "            print(f' [i] currently at index: {idx}')\n",
    "            if s[idx] in chars_counter and count <= chars_counter[s[idx]]: \n",
    "                print(f'[---] Current Element: {s[idx]}')\n",
    "                print(f'[---] Count at: {count}')\n",
    "                print('\\n')\n",
    "                count = chars_counter[s[idx]] + 1\n",
    "                print('[i] Charater Counted \\n')\n",
    "            else: \n",
    "                print(f'[---] Current Element: {s[idx]}')\n",
    "                print(f'[---] Substring Length at: {substring_len}')\n",
    "                print('\\n')\n",
    "                substring_len = max(substring_len, idx - count + 1)\n",
    "            chars_counter[s[idx]] = idx\n",
    "            print(f'Current Counts: {chars_counter}')\n",
    "            print('\\n')\n",
    "\n",
    "        return substring_len"
   ]
  },
  {
   "source": [
    "Testing Solution"
   ],
   "cell_type": "markdown",
   "metadata": {}
  },
  {
   "cell_type": "code",
   "execution_count": 72,
   "metadata": {},
   "outputs": [],
   "source": [
    "string = 'abcababaa'"
   ]
  },
  {
   "cell_type": "code",
   "execution_count": 73,
   "metadata": {
    "tags": []
   },
   "outputs": [
    {
     "output_type": "stream",
     "name": "stdout",
     "text": "Substring Length: 0\n * Count: 0\n * [+] Character counter Set\n\n\n [i] currently at index: 0\n[---] Current Element: a\n[---] Substring Length at: 0\n\n\nCurrent Counts: {&#39;a&#39;: 0}\n\n\n [i] currently at index: 1\n[---] Current Element: b\n[---] Substring Length at: 1\n\n\nCurrent Counts: {&#39;a&#39;: 0, &#39;b&#39;: 1}\n\n\n [i] currently at index: 2\n[---] Current Element: c\n[---] Substring Length at: 2\n\n\nCurrent Counts: {&#39;a&#39;: 0, &#39;b&#39;: 1, &#39;c&#39;: 2}\n\n\n [i] currently at index: 3\n[---] Current Element: a\n[---] Count at: 0\n\n\n[i] Charater Counted \n\nCurrent Counts: {&#39;a&#39;: 3, &#39;b&#39;: 1, &#39;c&#39;: 2}\n\n\n [i] currently at index: 4\n[---] Current Element: b\n[---] Count at: 1\n\n\n[i] Charater Counted \n\nCurrent Counts: {&#39;a&#39;: 3, &#39;b&#39;: 4, &#39;c&#39;: 2}\n\n\n [i] currently at index: 5\n[---] Current Element: a\n[---] Count at: 2\n\n\n[i] Charater Counted \n\nCurrent Counts: {&#39;a&#39;: 5, &#39;b&#39;: 4, &#39;c&#39;: 2}\n\n\n [i] currently at index: 6\n[---] Current Element: b\n[---] Count at: 4\n\n\n[i] Charater Counted \n\nCurrent Counts: {&#39;a&#39;: 5, &#39;b&#39;: 6, &#39;c&#39;: 2}\n\n\n [i] currently at index: 7\n[---] Current Element: a\n[---] Count at: 5\n\n\n[i] Charater Counted \n\nCurrent Counts: {&#39;a&#39;: 7, &#39;b&#39;: 6, &#39;c&#39;: 2}\n\n\n [i] currently at index: 8\n[---] Current Element: a\n[---] Count at: 6\n\n\n[i] Charater Counted \n\nCurrent Counts: {&#39;a&#39;: 8, &#39;b&#39;: 6, &#39;c&#39;: 2}\n\n\n"
    },
    {
     "output_type": "execute_result",
     "data": {
      "text/plain": "3"
     },
     "metadata": {},
     "execution_count": 73
    }
   ],
   "source": [
    "Solution.lengthOfLongestSubstring(string)"
   ]
  },
  {
   "source": [
    "## Finding the Median from a sorted array"
   ],
   "cell_type": "markdown",
   "metadata": {}
  },
  {
   "cell_type": "code",
   "execution_count": 112,
   "metadata": {},
   "outputs": [],
   "source": [
    "class Solution:\n",
    "    \n",
    "    def findMedianSortedArrays(arr_1, arr_2):\n",
    "        # set the array\n",
    "        array = sorted(arr_1 + arr_2)\n",
    "        print(f'Combined Array, Sorted: \\n {array} \\n ')\n",
    "        # if the array's length is even\n",
    "        print('Is array length even or odd? \\n')\n",
    "        if len(array) % 2 == 0: \n",
    "            print(f'Even -- Number of Elements: {len(array)}')\n",
    "            # if the array is even \n",
    "            return (array[len(array) // 2] + array[len(array) // 2 + 1]) / 2\n",
    "    \n",
    "        # if the array's length is odd\n",
    "        else: \n",
    "            print(f'Odd -- Number of Elements: {len(array)} \\n')\n",
    "            return array[len(array) // 2]"
   ]
  },
  {
   "source": [
    "Testing Solution"
   ],
   "cell_type": "markdown",
   "metadata": {}
  },
  {
   "cell_type": "code",
   "execution_count": 113,
   "metadata": {},
   "outputs": [],
   "source": [
    "arr_1, arr_2 = [9,9,2,5,5], [8,1,2,3]"
   ]
  },
  {
   "cell_type": "code",
   "execution_count": 114,
   "metadata": {
    "tags": []
   },
   "outputs": [
    {
     "output_type": "stream",
     "name": "stdout",
     "text": "Combined Array, Sorted: \n [1, 2, 2, 3, 5, 5, 8, 9, 9] \n \nIs array length even or odd? \n\nOdd -- Number of Elements: 9 \n\n"
    },
    {
     "output_type": "execute_result",
     "data": {
      "text/plain": "5"
     },
     "metadata": {},
     "execution_count": 114
    }
   ],
   "source": [
    "Solution.findMedianSortedArrays(arr_1, arr_2)"
   ]
  },
  {
   "source": [
    "## Find The Longest Palindrome Substring"
   ],
   "cell_type": "markdown",
   "metadata": {}
  },
  {
   "cell_type": "code",
   "execution_count": 58,
   "metadata": {},
   "outputs": [],
   "source": [
    "string = \"babadmoomoom\"\n",
    "string_2 = \"cbbd\""
   ]
  },
  {
   "cell_type": "code",
   "execution_count": 55,
   "metadata": {},
   "outputs": [],
   "source": [
    "class Solution(object):\n",
    "    def longestPalindrome(s):\n",
    "        \"\"\"\n",
    "        :type s: str\n",
    "        :rtype: str\n",
    "        \"\"\"\n",
    "        def palindrome(s):\n",
    "            size = len(s)\n",
    "            if size<2:\n",
    "                return s\n",
    "            i, j = 0, size-1\n",
    "            while i<j:\n",
    "                if s[i]!=s[j]:\n",
    "                    return False\n",
    "                i+=1\n",
    "                j-=1\n",
    "            return s\n",
    "            \n",
    "        string = ''\n",
    "        longest = set()\n",
    "        length = 0\n",
    "        for i in s:\n",
    "            # check the last length+1, length-1  + s[i] is palindrome\n",
    "            for n in range(length+1, max(length-1,0)-1, -1):\n",
    "                p = palindrome(string[-n:]+i)\n",
    "                if p:\n",
    "                    if len(p)> length:\n",
    "                        longest=set([p])\n",
    "                        length = len(p)\n",
    "                    elif len(p) == length:\n",
    "                        longest.add(p)\n",
    "            print(f\"i={i}, longest={longest}, length={length}\")\n",
    "            string += i\n",
    "        print('\\n')\n",
    "        print(f'Full String: {string} \\n')\n",
    "        longest_pal = longest.pop()\n",
    "        print(f'Longest Palindrome Substring: {longest_pal} \\n')\n",
    "        return longest_pal"
   ]
  },
  {
   "cell_type": "code",
   "execution_count": 56,
   "metadata": {},
   "outputs": [
    {
     "output_type": "stream",
     "name": "stdout",
     "text": [
      "i=b, longest={'b'}, length=1\ni=a, longest={'b'}, length=1\ni=b, longest={'bab'}, length=3\ni=a, longest={'aba', 'bab'}, length=3\ni=d, longest={'aba', 'bab'}, length=3\ni=m, longest={'aba', 'bab'}, length=3\ni=o, longest={'aba', 'bab'}, length=3\ni=o, longest={'aba', 'bab'}, length=3\ni=m, longest={'moom'}, length=4\ni=o, longest={'moom'}, length=4\ni=o, longest={'oomoo'}, length=5\ni=m, longest={'moomoom'}, length=7\n\n\nFull String: babadmoomoom \n\nLongest Palindrome Substring: moomoom \n\n"
     ]
    },
    {
     "output_type": "execute_result",
     "data": {
      "text/plain": [
       "'moomoom'"
      ]
     },
     "metadata": {},
     "execution_count": 56
    }
   ],
   "source": [
    "Solution.longestPalindrome(string)"
   ]
  },
  {
   "source": [
    "Rewriting to a more condensed code"
   ],
   "cell_type": "markdown",
   "metadata": {}
  },
  {
   "cell_type": "code",
   "execution_count": 66,
   "metadata": {},
   "outputs": [],
   "source": [
    "class Solution:\n",
    "    def longestPalindrome(s: str) -> str:\n",
    "\n",
    "        def check(l, r):\n",
    "            # check function to start in the center and move out element by element to capture substrings\n",
    "            while (l >= 0 and r < len(s) and s[l] == s[r]):\n",
    "                l -= 1\n",
    "                r += 1\n",
    "            # return the substring\n",
    "            return s[l+1:r]\n",
    "\n",
    "        result = ''\n",
    "        x = 0\n",
    "\n",
    "        for idx in range(len(s)):\n",
    "\n",
    "            check_string = check(idx, idx)\n",
    "            \n",
    "            if len(check_string) > len(result): result = check_string\n",
    "            print(f'Test Condition 1 {x}: -- {check_string}')\n",
    "            check_string = check(idx, idx + 1)\n",
    "            if len(check_string) > len(result): result = check_string\n",
    "            print(f'Test Condition 2 {x}: -- {check_string}')\n",
    "            x += 1\n",
    "\n",
    "        return result"
   ]
  },
  {
   "cell_type": "code",
   "execution_count": 67,
   "metadata": {},
   "outputs": [
    {
     "output_type": "stream",
     "name": "stdout",
     "text": [
      "Test Condition 1 0: -- b\nTest Condition 2 0: -- \nTest Condition 1 1: -- bab\nTest Condition 2 1: -- \nTest Condition 1 2: -- aba\nTest Condition 2 2: -- \nTest Condition 1 3: -- a\nTest Condition 2 3: -- \nTest Condition 1 4: -- d\nTest Condition 2 4: -- \nTest Condition 1 5: -- m\nTest Condition 2 5: -- \nTest Condition 1 6: -- o\nTest Condition 2 6: -- moom\nTest Condition 1 7: -- o\nTest Condition 2 7: -- \nTest Condition 1 8: -- moomoom\nTest Condition 2 8: -- \nTest Condition 1 9: -- o\nTest Condition 2 9: -- moom\nTest Condition 1 10: -- o\nTest Condition 2 10: -- \nTest Condition 1 11: -- m\nTest Condition 2 11: -- \n"
     ]
    },
    {
     "output_type": "execute_result",
     "data": {
      "text/plain": [
       "'moomoom'"
      ]
     },
     "metadata": {},
     "execution_count": 67
    }
   ],
   "source": [
    "Solution.longestPalindrome(string)"
   ]
  },
  {
   "source": [
    "## Zig Zag Conversion"
   ],
   "cell_type": "markdown",
   "metadata": {}
  },
  {
   "cell_type": "code",
   "execution_count": 24,
   "metadata": {},
   "outputs": [],
   "source": [
    "class Solution:\n",
    "    def convert(s, n_rows):\n",
    "        if n_rows == 1 or n_rows >= len(s): return s\n",
    "\n",
    "        row = 0\n",
    "        direction = -1 \n",
    "        result = [\"\"] * n_rows\n",
    "\n",
    "        for ele in s:\n",
    "\n",
    "            result[row] += ele\n",
    "            if row == 0 or row == n_rows - 1: direction *= -1 \n",
    "            row += direction\n",
    "            print(f'element: {ele} in row: {row}')\n",
    "        print('\\n')\n",
    "        print('RESULT:')\n",
    "        return \"\".join(result) "
   ]
  },
  {
   "cell_type": "code",
   "execution_count": 25,
   "metadata": {},
   "outputs": [],
   "source": [
    "s = \"PAYPALISHIRING\"\n",
    "n_rows = 4"
   ]
  },
  {
   "cell_type": "code",
   "execution_count": 26,
   "metadata": {},
   "outputs": [
    {
     "output_type": "stream",
     "name": "stdout",
     "text": [
      "element: P in row: 1\nelement: A in row: 2\nelement: Y in row: 3\nelement: P in row: 2\nelement: A in row: 1\nelement: L in row: 0\nelement: I in row: 1\nelement: S in row: 2\nelement: H in row: 3\nelement: I in row: 2\nelement: R in row: 1\nelement: I in row: 0\nelement: N in row: 1\nelement: G in row: 2\n\n\nRESULT:\n"
     ]
    },
    {
     "output_type": "execute_result",
     "data": {
      "text/plain": [
       "'PINALSIGYAHRPI'"
      ]
     },
     "metadata": {},
     "execution_count": 26
    }
   ],
   "source": [
    "Solution.convert(s, n_rows)"
   ]
  },
  {
   "source": [
    "## Find Reverse of Int"
   ],
   "cell_type": "markdown",
   "metadata": {}
  },
  {
   "cell_type": "code",
   "execution_count": 65,
   "metadata": {},
   "outputs": [
    {
     "output_type": "execute_result",
     "data": {
      "text/plain": [
       "True"
      ]
     },
     "metadata": {},
     "execution_count": 65
    }
   ],
   "source": [
    "(-2 ** 31) <= 9 <= (2 ** 31 - 1)"
   ]
  },
  {
   "cell_type": "code",
   "execution_count": 72,
   "metadata": {},
   "outputs": [],
   "source": [
    "class Solution:\n",
    "    def reverse(x):\n",
    "\n",
    "        if x >= 0:\n",
    "            x = int(str(x)[::-1]) \n",
    "        else:\n",
    "              int(\"-\" + str(x)[::-1][:-1])\n",
    "        \n",
    "        restraint = (-2 ** 31) <= x <= (2 ** 31 - 1)\n",
    "\n",
    "        return restraint and x or 0"
   ]
  },
  {
   "cell_type": "code",
   "execution_count": 70,
   "metadata": {},
   "outputs": [],
   "source": [
    "integer = -789"
   ]
  },
  {
   "cell_type": "code",
   "execution_count": 73,
   "metadata": {},
   "outputs": [
    {
     "output_type": "execute_result",
     "data": {
      "text/plain": [
       "-789"
      ]
     },
     "metadata": {},
     "execution_count": 73
    }
   ],
   "source": [
    "Solution.reverse(integer)"
   ]
  },
  {
   "source": [
    "## String to Integes (ATOLI)"
   ],
   "cell_type": "markdown",
   "metadata": {}
  },
  {
   "cell_type": "code",
   "execution_count": null,
   "metadata": {},
   "outputs": [],
   "source": [
    "class Solution:\n",
    "    def myAtoi(self, str):\n",
    "        r = [int(c) for c in re.findall(r\"^[-+]?\\u005Cd+\", str.lstrip())]\n",
    "        return (r and 2 ** 31 - 1 < r[0] and 2 ** 31 - 1) or (r and r[0] < -2 ** 31 and -2 ** 31) or (r and r[0]) or 0"
   ]
  }
 ]
}