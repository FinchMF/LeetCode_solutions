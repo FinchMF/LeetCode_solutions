{
 "cells": [
  {
   "cell_type": "code",
   "execution_count": 1,
   "metadata": {},
   "outputs": [
    {
     "name": "stdout",
     "output_type": "stream",
     "text": [
      "True\n"
     ]
    }
   ],
   "source": [
    "\n",
    "class Solution(object):\n",
    "\n",
    "    def canJump(self, nums: list) -> bool:\n",
    "\n",
    "        reachable = 0\n",
    "\n",
    "        for idx, length in enumerate(nums):\n",
    "\n",
    "            if idx > reachable:\n",
    "                break\n",
    "\n",
    "            reachable = max(reachable, idx + length)\n",
    "\n",
    "        return reachable >= len(nums) - 1\n",
    "\n",
    "\n",
    "\n",
    "nums = [2,3,1,1,4]\n",
    "print(Solution().canJump(nums=nums))"
   ]
  },
  {
   "cell_type": "code",
   "execution_count": null,
   "metadata": {},
   "outputs": [],
   "source": []
  }
 ],
 "metadata": {
  "interpreter": {
   "hash": "31f2aee4e71d21fbe5cf8b01ff0e069b9275f58929596ceb00d14d90e3e16cd6"
  },
  "kernelspec": {
   "display_name": "Python 3.7.3 64-bit",
   "language": "python",
   "name": "python3"
  },
  "language_info": {
   "codemirror_mode": {
    "name": "ipython",
    "version": 3
   },
   "file_extension": ".py",
   "mimetype": "text/x-python",
   "name": "python",
   "nbconvert_exporter": "python",
   "pygments_lexer": "ipython3",
   "version": "3.7.6"
  },
  "orig_nbformat": 4
 },
 "nbformat": 4,
 "nbformat_minor": 2
}
